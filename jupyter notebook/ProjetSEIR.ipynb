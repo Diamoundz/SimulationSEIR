{
 "cells": [
  {
   "cell_type": "markdown",
   "id": "8fafcb5b-64f0-411c-8105-5252da9cdd90",
   "metadata": {},
   "source": [
    "# Projet Simulation: SEIR\n",
    "\n",
    "![SEIR Model](SEIR.webp)\n",
    "\n",
    "---\n",
    "\n",
    "**Authors:**\n",
    "- Orhan Cartelli Elijah\n",
    "- Engelbrecht Jerôme"
   ]
  },
  {
   "cell_type": "markdown",
   "id": "a028edd8-3e61-47e7-a80d-a7069b298844",
   "metadata": {},
   "source": [
    "# Introduction to SEIR Simulation Model\n",
    "\n",
    "The SEIR model is a widely-used epidemiological model designed to simulate the spread of infectious diseases within a population. It is based on compartmentalization, dividing the population into four distinct compartments:\n",
    "\n",
    "- **Susceptible (S)**: Individuals who are susceptible to the disease and can become infected if they come into contact with infectious individuals.\n",
    "\n",
    "- **Exposed (E)**: Individuals who have been exposed to the disease but are not yet infectious. This represents the latent period during which the individual is infected but not yet showing symptoms or infectious.\n",
    "\n",
    "- **Infectious (I)**: Individuals who are infected and can spread the disease to susceptible individuals.\n",
    "\n",
    "- **Recovered (R)**: Individuals who have recovered from the disease and are assumed to have acquired immunity, at least temporarily. They are not susceptible to reinfection.\n",
    "\n",
    "The SEIR model tracks the flow of individuals between these compartments over time through a system of ordinary differential equations (ODEs). It considers parameters such as the transmission rate, the incubation period, and the recovery rate to model the dynamics of disease spread.\n",
    "\n",
    "SEIR models are widely used in epidemiology and public health research to study the dynamics of infectious diseases such as influenza, measles, and COVID-19. By adjusting parameters and initial conditions, SEIR simulations can provide insights into the potential trajectory of an epidemic and inform public health interventions.\n"
   ]
  },
  {
   "cell_type": "markdown",
   "id": "0b1bb82a-9a17-46a7-8d82-f6ade67ac0b4",
   "metadata": {},
   "source": [
    "# Table of Contents\n",
    "\n",
    "1. [Organization of Files and Packages](#organization)\n",
    "2. [Functionality of Various Files and Main Functions](#functionality)\n",
    "3. [Function Model (Input, Output, Changes Made)](#function_model)\n",
    "4. [Results Obtained](#results)\n"
   ]
  },
  {
   "cell_type": "markdown",
   "id": "68a0f43b-3d10-4b5e-96a3-6b2f68c3d784",
   "metadata": {},
   "source": [
    "## Organization of Files and Packages <a id=\"organization\"></a>\n",
    "\n",
    "Our project directory is structured as follows:\n",
    "\n",
    "````{verbatim}\n",
    ".\n",
    "├── build/\n",
    "│   └── com/\n",
    "│       ├── main/\n",
    "│       │   ├── CSVGenerator.class\n",
    "│       │   ├── Grid.class\n",
    "│       │   ├── Keyboard.class\n",
    "│       │   ├── Main.class\n",
    "│       │   ├── MersenneTwister.class\n",
    "│       │   ├── Subject.class\n",
    "│       │   ├── Utils.class\n",
    "│       │   └── Vector2.class\n",
    "│       └── visual/\n",
    "│           ├── Interface.class\n",
    "│           └── ProgressBarWindow.class\n",
    "├── data/\n",
    "├── jupyter notebook/\n",
    "├── py/\n",
    "│   └── Graphics.py\n",
    "├── README.md\n",
    "└── src/\n",
    "    └── com/\n",
    "        ├── main/\n",
    "        │   ├── CSVGenerator.java\n",
    "        │   ├── Grid.java\n",
    "        │   ├── Keyboard.java\n",
    "        │   ├── Main.java\n",
    "        │   ├── MersenneTwister.java\n",
    "        │   ├── Subject.java\n",
    "        │   ├── Utils.java\n",
    "        │   └── Vector2.java\n",
    "        └── visual/\n",
    "            └── Interface.java\n",
    "````\n",
    "\n",
    "In this structure:\n",
    "\n",
    "- The `build/` directory contains compiled Java `.class` files organized under `com.main` and `com.visual` packages.\n",
    "- The `src/` directory contains the source Java files organized similarly under `com.main` and `com.visual`.\n",
    "- Other directories such as `data/`, `jupyter notebook/`, and `py/` appear to contain various data, Jupyter Notebook files, and Python scripts, respectively.\n",
    "- There is a `README.md` file providing information about the project.\n",
    "\n",
    "This organization separates source files (`src/`) from compiled files (`build/`), and classes are structured within appropriate packages to maintain modularity and facilitate ease of development and maintenance."
   ]
  },
  {
   "cell_type": "markdown",
   "id": "a2ed1dd5-9674-4bc5-8637-311857a5905e",
   "metadata": {},
   "source": [
    "## Functionality of Various Files and Main Functions <a id=\"functionality\"></a>\n",
    "\n",
    "### Functionality in `./src/com/main` Folder\n",
    "\n",
    "The `./src/com/main` folder, also referred to as `package com.main`, contains the following files, which represent the core functionalities used in the project:\n",
    "\n",
    "1. **Main**:\n",
    "   - Description: This file serves to initialize and configure the project; everything is managed inside it.\n",
    "\n",
    "2. **Grid**:\n",
    "   - Description: Defines a grid used for the SEIR simulation.\n",
    "\n",
    "3. **MersenneTwister**:\n",
    "   - Description: Enables the generation of high-quality pseudo-random numbers.\n",
    "\n",
    "4. **Subject**:\n",
    "   - Description: Defines the subjects of experiments and their status (Susceptible (S), Exposed (E), Infectious (I), Recovered (R)), as well as managing them.\n",
    "\n",
    "5. **Utils** and **Vector2**:\n",
    "   - Description: Additional functionalities sometimes redefined, sometimes added, allowing for better manipulation of the environment.\n",
    "\n",
    "### Functionality in `./src/com/visual` Folder\n",
    "\n",
    "The `./src/com/visual` folder, also referred to as `package com.visual`, contains the following file, which provides graphical interface functionality:\n",
    "\n",
    "- **Interface**:\n",
    "  - Description: This file allows the generation of a graphical interface enabling a clearer visualization of the simulation, making its understanding simpler.\n"
   ]
  },
  {
   "cell_type": "markdown",
   "id": "d4deb032-10fc-405f-ae37-ddeac1affd53",
   "metadata": {},
   "source": [
    "## Function Model (Input, Output, Changes Made) <a id=\"function_model\"></a>\n",
    "\n",
    "Your content about the function model, including input, output, and changes made, goes here."
   ]
  },
  {
   "cell_type": "markdown",
   "id": "c472eec9-dc58-493c-b59e-add950950186",
   "metadata": {},
   "source": [
    "## Results Obtained <a id=\"results\"></a>\n",
    "\n",
    "Your content about the results obtained goes here."
   ]
  }
 ],
 "metadata": {
  "kernelspec": {
   "display_name": "Python 3 (ipykernel)",
   "language": "python",
   "name": "python3"
  },
  "language_info": {
   "codemirror_mode": {
    "name": "ipython",
    "version": 3
   },
   "file_extension": ".py",
   "mimetype": "text/x-python",
   "name": "python",
   "nbconvert_exporter": "python",
   "pygments_lexer": "ipython3",
   "version": "3.10.12"
  }
 },
 "nbformat": 4,
 "nbformat_minor": 5
}
